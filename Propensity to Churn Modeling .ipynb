{
 "cells": [
  {
   "cell_type": "code",
   "execution_count": 1,
   "id": "20e4ba2c",
   "metadata": {},
   "outputs": [],
   "source": [
    "import numpy as np\n",
    "import matplotlib.pyplot as plt\n",
    "from sklearn.model_selection import train_test_split\n",
    "from sklearn.ensemble import RandomForestClassifier\n",
    "import pandas as pd\n",
    "import joblib\n",
    "import pickle\n",
    "from sklearn.metrics import confusion_matrix, accuracy_score \n",
    "from sklearn.metrics import f1_score, precision_score, recall_score, fbeta_score\n",
    "from sklearn.metrics import auc, roc_auc_score, roc_curve\n",
    "from sklearn.model_selection import GridSearchCV\n",
    "from sklearn.metrics import make_scorer, roc_auc_score\n",
    "from sklearn.model_selection import RandomizedSearchCV\n",
    "from scipy.stats import randint"
   ]
  },
  {
   "cell_type": "code",
   "execution_count": 5,
   "id": "af5b65fa",
   "metadata": {},
   "outputs": [],
   "source": [
    "# Load the data\n",
    "data = pd.read_csv(\"datapoint_2023.csv\")"
   ]
  },
  {
   "cell_type": "code",
   "execution_count": 9,
   "id": "6512f64c",
   "metadata": {},
   "outputs": [],
   "source": [
    "# Define a list of new column names\n",
    "new_columns = ['owner_id', 'churned', 'Feature_1', 'Feature_2', 'Feature_3', 'Feature_4']\n",
    "\n",
    "# Set the new column names of the DataFrame\n",
    "data.columns = new_columns\n"
   ]
  },
  {
   "cell_type": "code",
   "execution_count": 10,
   "id": "5ceec4da",
   "metadata": {},
   "outputs": [
    {
     "data": {
      "text/html": [
       "<div>\n",
       "<style scoped>\n",
       "    .dataframe tbody tr th:only-of-type {\n",
       "        vertical-align: middle;\n",
       "    }\n",
       "\n",
       "    .dataframe tbody tr th {\n",
       "        vertical-align: top;\n",
       "    }\n",
       "\n",
       "    .dataframe thead th {\n",
       "        text-align: right;\n",
       "    }\n",
       "</style>\n",
       "<table border=\"1\" class=\"dataframe\">\n",
       "  <thead>\n",
       "    <tr style=\"text-align: right;\">\n",
       "      <th></th>\n",
       "      <th>owner_id</th>\n",
       "      <th>churned</th>\n",
       "      <th>Feature_1</th>\n",
       "      <th>Feature_2</th>\n",
       "      <th>Feature_3</th>\n",
       "      <th>Feature_4</th>\n",
       "    </tr>\n",
       "  </thead>\n",
       "  <tbody>\n",
       "    <tr>\n",
       "      <th>0</th>\n",
       "      <td>1158</td>\n",
       "      <td>0</td>\n",
       "      <td>3.000000</td>\n",
       "      <td>1</td>\n",
       "      <td>1</td>\n",
       "      <td>1.000000</td>\n",
       "    </tr>\n",
       "    <tr>\n",
       "      <th>1</th>\n",
       "      <td>1300</td>\n",
       "      <td>0</td>\n",
       "      <td>3.500000</td>\n",
       "      <td>6</td>\n",
       "      <td>4</td>\n",
       "      <td>0.666667</td>\n",
       "    </tr>\n",
       "    <tr>\n",
       "      <th>2</th>\n",
       "      <td>2640</td>\n",
       "      <td>1</td>\n",
       "      <td>4.000000</td>\n",
       "      <td>2</td>\n",
       "      <td>2</td>\n",
       "      <td>1.000000</td>\n",
       "    </tr>\n",
       "    <tr>\n",
       "      <th>3</th>\n",
       "      <td>1091</td>\n",
       "      <td>1</td>\n",
       "      <td>3.000000</td>\n",
       "      <td>1</td>\n",
       "      <td>1</td>\n",
       "      <td>1.000000</td>\n",
       "    </tr>\n",
       "    <tr>\n",
       "      <th>4</th>\n",
       "      <td>2564</td>\n",
       "      <td>1</td>\n",
       "      <td>2.500000</td>\n",
       "      <td>2</td>\n",
       "      <td>1</td>\n",
       "      <td>0.500000</td>\n",
       "    </tr>\n",
       "    <tr>\n",
       "      <th>...</th>\n",
       "      <td>...</td>\n",
       "      <td>...</td>\n",
       "      <td>...</td>\n",
       "      <td>...</td>\n",
       "      <td>...</td>\n",
       "      <td>...</td>\n",
       "    </tr>\n",
       "    <tr>\n",
       "      <th>493</th>\n",
       "      <td>2664</td>\n",
       "      <td>1</td>\n",
       "      <td>1.000000</td>\n",
       "      <td>1</td>\n",
       "      <td>0</td>\n",
       "      <td>0.000000</td>\n",
       "    </tr>\n",
       "    <tr>\n",
       "      <th>494</th>\n",
       "      <td>995</td>\n",
       "      <td>0</td>\n",
       "      <td>3.833333</td>\n",
       "      <td>6</td>\n",
       "      <td>4</td>\n",
       "      <td>0.666667</td>\n",
       "    </tr>\n",
       "    <tr>\n",
       "      <th>495</th>\n",
       "      <td>1320</td>\n",
       "      <td>0</td>\n",
       "      <td>3.857143</td>\n",
       "      <td>7</td>\n",
       "      <td>7</td>\n",
       "      <td>1.000000</td>\n",
       "    </tr>\n",
       "    <tr>\n",
       "      <th>496</th>\n",
       "      <td>1131</td>\n",
       "      <td>0</td>\n",
       "      <td>2.600000</td>\n",
       "      <td>5</td>\n",
       "      <td>2</td>\n",
       "      <td>0.400000</td>\n",
       "    </tr>\n",
       "    <tr>\n",
       "      <th>497</th>\n",
       "      <td>912</td>\n",
       "      <td>0</td>\n",
       "      <td>4.142857</td>\n",
       "      <td>42</td>\n",
       "      <td>36</td>\n",
       "      <td>0.857143</td>\n",
       "    </tr>\n",
       "  </tbody>\n",
       "</table>\n",
       "<p>498 rows × 6 columns</p>\n",
       "</div>"
      ],
      "text/plain": [
       "     owner_id  churned  Feature_1  Feature_2  Feature_3  Feature_4\n",
       "0        1158        0   3.000000          1          1   1.000000\n",
       "1        1300        0   3.500000          6          4   0.666667\n",
       "2        2640        1   4.000000          2          2   1.000000\n",
       "3        1091        1   3.000000          1          1   1.000000\n",
       "4        2564        1   2.500000          2          1   0.500000\n",
       "..        ...      ...        ...        ...        ...        ...\n",
       "493      2664        1   1.000000          1          0   0.000000\n",
       "494       995        0   3.833333          6          4   0.666667\n",
       "495      1320        0   3.857143          7          7   1.000000\n",
       "496      1131        0   2.600000          5          2   0.400000\n",
       "497       912        0   4.142857         42         36   0.857143\n",
       "\n",
       "[498 rows x 6 columns]"
      ]
     },
     "execution_count": 10,
     "metadata": {},
     "output_type": "execute_result"
    }
   ],
   "source": [
    "data"
   ]
  },
  {
   "cell_type": "code",
   "execution_count": 11,
   "id": "be4efdcd",
   "metadata": {},
   "outputs": [],
   "source": [
    "# Select the features and target\n",
    "X = data.drop(['churned','owner_id'], axis=1)\n",
    "y = data['churned']"
   ]
  },
  {
   "cell_type": "code",
   "execution_count": 13,
   "id": "d41b13c2",
   "metadata": {},
   "outputs": [],
   "source": [
    "# Split data into training and test sets\n",
    "X_train, X_test, y_train, y_test = train_test_split(X, y, test_size=0.2)"
   ]
  },
  {
   "cell_type": "markdown",
   "id": "f3ae53e7",
   "metadata": {},
   "source": [
    "# Tune hyperparameters\n",
    "using techniques like GridSearchCV or RandomizedSearchCV to find the optimal values for these hyperparameters.\n",
    "# Result : using  RandomizedSearchCV\n",
    "param_dist = {'n_estimators': randint(10, 200),\n",
    "              'max_depth': [None, 5, 10, 20, 30],\n",
    "              'min_samples_split': randint(2, 20),\n",
    "              #'min_samples_leaf' : randint(2, 20),\n",
    "              #'criterion':['gini','entropy'],\n",
    "              'max_features': [None, 'sqrt', 'log2']}\n",
    "              \n",
    "Thet gives below score :\n",
    "\n",
    "✔✔cv=5, n_iter=1000 ( takes 7 miuntes) after Feature engineering: \n",
    "Best parameters:  {'max_depth': 30, 'max_features': 'sqrt', 'min_samples_split': 6, 'n_estimators': 10}\n",
    "Best AUC score:  0.8138879365623553"
   ]
  },
  {
   "cell_type": "markdown",
   "id": "ecc3bc76",
   "metadata": {},
   "source": [
    "## GridSearchCV"
   ]
  },
  {
   "cell_type": "raw",
   "id": "bbf3f144",
   "metadata": {},
   "source": [
    "# Define the parameter grid\n",
    "param_grid = {'n_estimators': [10, 50, 100],\n",
    "              'max_depth': [None, 5, 10],\n",
    "              'min_samples_split': [2, 5, 10],\n",
    "              'max_features': [None, 'sqrt', 'log2']}\n",
    "\n",
    "# Create a RandomForestClassifier\n",
    "clf = RandomForestClassifier()\n",
    "\n",
    "# Define the scoring metric\n",
    "scorer = make_scorer(roc_auc_score)\n",
    "\n",
    "# Create the GridSearchCV object\n",
    "grid_search = GridSearchCV(clf, param_grid, scoring=scorer, cv=5)\n",
    "\n",
    "# Fit the GridSearchCV object to the data\n",
    "grid_search.fit(X_train, y_train)"
   ]
  },
  {
   "cell_type": "raw",
   "id": "444fb869",
   "metadata": {},
   "source": [
    "# Fit the GridSearchCV object to the data\n",
    "grid_search.fit(X_train, y_train)\n",
    "\n",
    "# Print the best parameters and the best score\n",
    "print(\"Best parameters: \", grid_search.best_params_)\n",
    "print(\"Best AUC score: \", grid_search.best_score_)"
   ]
  },
  {
   "cell_type": "markdown",
   "id": "1b96365b",
   "metadata": {},
   "source": [
    "## Result for GridSearchCV:\n",
    "Cv= 5 >>> Best parameters:  {'max_depth': 5, 'max_features': 'log2', 'min_samples_split': 2, 'n_estimators': 100}\n",
    "Best AUC score:  0.7867893217893218\n",
    "    \n",
    "CV =10 >>> Best parameters:  {'max_depth': 5, 'max_features': 'log2', 'min_samples_split': 2, 'n_estimators': 50}\n",
    "Best AUC score:  0.7801383399209486    "
   ]
  },
  {
   "cell_type": "markdown",
   "id": "884316f4",
   "metadata": {},
   "source": [
    "# RandomizedSearchCV"
   ]
  },
  {
   "cell_type": "raw",
   "id": "e2f58ebe",
   "metadata": {},
   "source": [
    "from sklearn.ensemble import RandomForestClassifier\n",
    "from sklearn.model_selection import RandomizedSearchCV\n",
    "from sklearn.metrics import make_scorer, roc_auc_score\n",
    "from scipy.stats import randint\n",
    "\n",
    "# Define the parameter distribution\n",
    "param_dist = {'n_estimators': randint(10, 200),\n",
    "              'max_depth': [None, 5, 10, 20, 30],\n",
    "              'min_samples_split': randint(2, 20),\n",
    "              'min_samples_leaf' : randint(2, 20),\n",
    "              'criterion':['gini','entropy'],\n",
    "              'max_features': [None, 'sqrt', 'log2']}\n",
    "\n",
    "# Create a RandomForestClassifier\n",
    "clf = RandomForestClassifier()\n",
    "\n",
    "# Define the scoring metric\n",
    "scorer = make_scorer(roc_auc_score)\n",
    "\n",
    "# Create the RandomizedSearchCV object\n",
    "random_search = RandomizedSearchCV(clf, param_distributions=param_dist, scoring=scorer, cv=5, n_iter=1000)\n",
    "\n",
    "# Fit the RandomizedSearchCV object to the data\n",
    "random_search.fit(X_train, y_train)\n",
    "\n",
    "# Print the best parameters and the best score\n",
    "print(\"Best parameters: \", random_search.best_params_)\n",
    "print(\"Best AUC score: \", random_search.best_score_)"
   ]
  },
  {
   "cell_type": "markdown",
   "id": "a6bd060e",
   "metadata": {},
   "source": [
    "## Result For RandomizedSearchCV:\n",
    "\n",
    "✔cv=5, n_iter=1000 ( takes 7 miuntes) after Feature engineering: \n",
    "Best parameters:  {'max_depth': 30, 'max_features': 'sqrt', 'min_samples_split': 6, 'n_estimators': 10}\n",
    "Best AUC score:  0.8138879365623553\n",
    "\n",
    "+++++++++++++++++++++++++++++++++++++++++++++++++++++++++++++++++++++++++++++++++++++++++++++++++++++++\n",
    "✔✔✔✔cv=5, n_iter=100 >>>\n",
    "Best parameters:  {'max_depth': 20, 'max_features': None, 'min_samples_split': 19, 'n_estimators': 64}\n",
    "Best AUC score:  0.7854906204906206 \n",
    "\n",
    "✔✔✔cv=5, n_iter=1000 ( takes 7 miuntes) before Feature engineering: \n",
    "\n",
    "Best parameters:  {'max_depth': 5, 'max_features': 'log2', 'min_samples_split': 7, 'n_estimators': 114}\n",
    "Best AUC score:  0.7963347763347763\n",
    "\n",
    "✔✔cv=5, n_iter=1000 ( takes 7 miuntes) after Feature engineering: \n",
    "Best parameters:  {'criterion': 'entropy', 'max_depth': 30, 'max_features': 'sqrt', 'min_samples_leaf': 3, 'min_samples_split': 7, 'n_estimators': 12}\n",
    "Best AUC score:  0.8089347275393788\n",
    "\n",
    "✔cv=5, n_iter=1000 ( takes 7 miuntes) after Feature engineering: \n",
    "Best parameters:  {'max_depth': 30, 'max_features': 'sqrt', 'min_samples_split': 6, 'n_estimators': 10}\n",
    "Best AUC score:  0.8138879365623553\n",
    "\n",
    "++++++++++++++++++++++++++++++++++++++++++++++++++++++++++++++++++++++++++++++++++++++++++++++++++++++++\n",
    "cv=10, n_iter=100 >>>\n",
    "\n",
    "Best parameters:  {'max_depth': 5, 'max_features': 'log2', 'min_samples_split': 12, 'n_estimators': 12}\n",
    "Best AUC score:  0.7876152832674572\n",
    "++++++++++++++++++++++++++++++++++++++++++++++++++++++++++++++++++++++++++++++++++++++++++++++++++++++++\n",
    "cv=10, n_iter=1000 >>>\n",
    "Best parameters:  {'max_depth': 5, 'max_features': 'log2', 'min_samples_split': 5, 'n_estimators': 15}\n",
    "Best AUC score:  0.787021106202692\n",
    "\n"
   ]
  },
  {
   "cell_type": "code",
   "execution_count": 14,
   "id": "9ccfa477",
   "metadata": {},
   "outputs": [
    {
     "data": {
      "text/plain": [
       "RandomForestClassifier(max_depth=30, max_features='sqrt', min_samples_split=6,\n",
       "                       n_estimators=10)"
      ]
     },
     "execution_count": 14,
     "metadata": {},
     "output_type": "execute_result"
    }
   ],
   "source": [
    "# Train the model with best parmeters:\n",
    "best_clf = RandomForestClassifier(\n",
    "    max_depth= 30, \n",
    "    max_features = 'sqrt',\n",
    "    min_samples_split= 6,\n",
    "    n_estimators= 10)\n",
    "\n",
    "best_clf.fit(X, y)"
   ]
  },
  {
   "cell_type": "code",
   "execution_count": 15,
   "id": "b902a1a1",
   "metadata": {},
   "outputs": [
    {
     "name": "stdout",
     "output_type": "stream",
     "text": [
      "Accuracy:  0.9\n",
      "Precision:  0.9019607843137255\n",
      "Recall:  0.9019607843137255\n",
      "F1-score:  0.9019607843137255\n",
      "F2-score:  0.9019607843137254\n",
      "AUC-ROC:  0.8999599839935973\n",
      "           Model  Accuracy  Precision    Recall  F1 Score  F2 Score  AUC-ROC\n",
      "0  Random Forest       0.9   0.901961  0.901961  0.901961  0.901961  0.89996\n"
     ]
    }
   ],
   "source": [
    "# Make predictions on the test set\n",
    "y_pred = best_clf.predict(X_test)\n",
    "\n",
    "# Calculate evaluation metrics\n",
    "from sklearn.metrics import accuracy_score, precision_score, recall_score, f1_score, roc_auc_score\n",
    "accuracy = accuracy_score(y_test, y_pred)\n",
    "precision = precision_score(y_test, y_pred)\n",
    "recall = recall_score(y_test, y_pred)\n",
    "f1 = f1_score(y_test, y_pred)\n",
    "f2 = fbeta_score(y_test, y_pred, beta=2.0)\n",
    "roc_auc = roc_auc_score(y_test, y_pred)\n",
    "\n",
    "# Print evaluation metrics\n",
    "print(\"Accuracy: \", accuracy)\n",
    "print(\"Precision: \", precision)\n",
    "print(\"Recall: \", recall)\n",
    "print(\"F1-score: \", f1)\n",
    "print(\"F2-score: \", f2)\n",
    "print(\"AUC-ROC: \", roc_auc)\n",
    "\n",
    "\n",
    "results = pd.DataFrame([['Random Forest',\n",
    "accuracy, precision, recall, f1, f2, roc_auc]],columns = ['Model', 'Accuracy', 'Precision', 'Recall', 'F1 Score', 'F2 Score', 'AUC-ROC'])\n",
    "print (results)"
   ]
  },
  {
   "cell_type": "code",
   "execution_count": 16,
   "id": "d0b38ab6",
   "metadata": {},
   "outputs": [
    {
     "name": "stdout",
     "output_type": "stream",
     "text": [
      "Mean score:  0.8475412451007202\n",
      "Standard deviation:  0.02981803110716961\n"
     ]
    }
   ],
   "source": [
    "from sklearn.model_selection import cross_val_score\n",
    "\n",
    "# Define the number of folds\n",
    "k = 5\n",
    "\n",
    "# Define the evaluation metric\n",
    "scorer = 'roc_auc'\n",
    "\n",
    "# Perform k-fold cross validation\n",
    "cv_scores = cross_val_score(best_clf, X, y, cv=k, scoring=scorer)\n",
    "\n",
    "# Print the mean and standard deviation of the scores\n",
    "print(\"Mean score: \", cv_scores.mean())\n",
    "print(\"Standard deviation: \", cv_scores.std())"
   ]
  },
  {
   "cell_type": "code",
   "execution_count": 11,
   "id": "6c0d5193",
   "metadata": {},
   "outputs": [],
   "source": [
    "\n",
    "\n",
    "# Save the model\n",
    "joblib.dump(best_clf, 'finalized_model_best_clf.sav')\n",
    "\n",
    "# predict the probability of churn\n",
    "propensity_to_churn = best_clf.predict_proba(X)[:, 1]\n",
    "\n",
    "predictions = best_clf.predict(X)\n",
    "\n",
    "# Add propensity_to_churn column to data\n",
    "data[\"propensity_to_churn\"] = propensity_to_churn\n",
    "data[\"predictions\"] = predictions\n",
    "\n",
    "\n",
    "#data[\"rank\"] = data['propensity_to_churn'].rank(ascending=False,method='first')\n",
    "data[\"rank\"] =pd.qcut(data['propensity_to_churn'].rank(method = 'first'),10,labels=range(10,0,-1))\n",
    "\n",
    "#Group by owner_id\n",
    "#data_grouped = data.groupby(['owner_id']).mean()"
   ]
  },
  {
   "cell_type": "markdown",
   "id": "d0b2bf3f",
   "metadata": {},
   "source": [
    "    data['propensity_to_churn'].rank(method = 'first'): This calculates the rank of each value in the 'propensity_to_churn' column. The method = 'first' argument is used to assign the same rank to tied elements.\n",
    "    pd.qcut(data['propensity_to_churn'].rank(method = 'first'),10,labels=range(10,0,-1)): This is used to create 10 quantile-based bins of equal size and then assign a label to each bin. The labels=range(10,0,-1) argument is used to assign the labels in descending order, so the highest rank will be assigned the label 10 and the lowest rank will be assigned the label 1."
   ]
  },
  {
   "cell_type": "code",
   "execution_count": 13,
   "id": "58885d44",
   "metadata": {},
   "outputs": [
    {
     "data": {
      "image/png": "[encoded data removed]",
      "text/plain": [
       "<Figure size 1008x432 with 1 Axes>"
      ]
     },
     "metadata": {
      "needs_background": "light"
     },
     "output_type": "display_data"
    }
   ],
   "source": [
    "#Evaluate the model using ROC Graph:\n",
    "best_clf.fit(X_train, y_train) \n",
    "probs = best_clf.predict_proba(X_test) \n",
    "probs = probs[:, 1] \n",
    "classifier_roc_auc = accuracy_score(y_test, y_pred )\n",
    "\n",
    "rf_fpr, rf_tpr, rf_thresholds = roc_curve(y_test, best_clf.predict_proba(X_test)[:,1])\n",
    "plt.figure(figsize=(14, 6))\n",
    "\n",
    "# Plot Random Forest ROC\n",
    "\n",
    "plt.plot(rf_fpr, rf_tpr, \n",
    "label='Random Forest (area = %0.2f)' % classifier_roc_auc)\n",
    "\n",
    "# Plot Base Rate ROC\n",
    "plt.plot([0,1], [0,1],label='Base Rate')\n",
    "\n",
    "plt.xlim([0.0, 1.0])\n",
    "plt.ylim([0.0, 1.05])\n",
    "\n",
    "plt.ylabel('True Positive Rate \\n',horizontalalignment=\"center\",\n",
    "fontstyle = \"normal\", fontsize = \"medium\", \n",
    "fontfamily = \"sans-serif\")\n",
    "\n",
    "plt.xlabel('\\nFalse Positive Rate \\n',horizontalalignment=\"center\",\n",
    "fontstyle = \"normal\", fontsize = \"medium\", \n",
    "fontfamily = \"sans-serif\")\n",
    "\n",
    "plt.title('ROC Graph \\n',horizontalalignment=\"center\", \n",
    "fontstyle = \"normal\", fontsize = \"22\", \n",
    "fontfamily = \"sans-serif\")\n",
    "\n",
    "plt.legend(loc=\"lower right\", fontsize = \"medium\")\n",
    "plt.xticks(rotation=0, horizontalalignment=\"center\")\n",
    "plt.yticks(rotation=0, horizontalalignment=\"right\")\n",
    "\n",
    "plt.show()"
   ]
  },
  {
   "cell_type": "code",
   "execution_count": 95,
   "id": "382eab3f",
   "metadata": {},
   "outputs": [],
   "source": [
    "data.to_csv(\"probability_best_clf.csv\")\n"
   ]
  },
  {
   "cell_type": "code",
   "execution_count": 17,
   "id": "33b81ae7",
   "metadata": {},
   "outputs": [],
   "source": [
    "import pandas as pd\n",
    "import joblib"
   ]
  },
  {
   "cell_type": "code",
   "execution_count": 18,
   "id": "cef4f943",
   "metadata": {},
   "outputs": [],
   "source": [
    "# Load the model\n",
    "model = joblib.load('finalized_model_best_clf.sav')"
   ]
  },
  {
   "cell_type": "code",
   "execution_count": 22,
   "id": "1675082b",
   "metadata": {},
   "outputs": [],
   "source": [
    "# Load the data\n",
    "data = pd.read_csv(\"data.csv\")"
   ]
  },
  {
   "cell_type": "code",
   "execution_count": 26,
   "id": "fc01ee4c",
   "metadata": {},
   "outputs": [],
   "source": [
    "# Select the features and target\n",
    "X = data.drop(['churned','owner_id'], axis=1)\n",
    "\n",
    "# predict the probability of churn\n",
    "propensity_to_churn = model.predict_proba(X)[:, 1]\n",
    "\n",
    "# Add propensity_to_churn column to data\n",
    "data[\"propensity_to_churn\"] = propensity_to_churn"
   ]
  },
  {
   "cell_type": "code",
   "execution_count": 29,
   "id": "997d05af",
   "metadata": {},
   "outputs": [],
   "source": [
    "predictions = model.predict(X)\n",
    "\n",
    "# Add predictions column to data\n",
    "\n",
    "data[\"predictions\"] = predictions\n",
    "\n",
    "\n",
    "#data[\"rank\"] = data['propensity_to_churn'].rank(ascending=False,method='first')\n",
    "data[\"rank\"] =pd.qcut(data['propensity_to_churn'].rank(method = 'first'),10,labels=range(10,0,-1))"
   ]
  },
  {
   "cell_type": "code",
   "execution_count": 32,
   "id": "0b073b03",
   "metadata": {},
   "outputs": [],
   "source": [
    "data.to_csv(\"probability_best_clf_new users.csv\")\n"
   ]
  }
 ],
 "metadata": {
  "kernelspec": {
   "display_name": "Python 3 (ipykernel)",
   "language": "python",
   "name": "python3"
  },
  "language_info": {
   "codemirror_mode": {
    "name": "ipython",
    "version": 3
   },
   "file_extension": ".py",
   "mimetype": "text/x-python",
   "name": "python",
   "nbconvert_exporter": "python",
   "pygments_lexer": "ipython3",
   "version": "3.9.12"
  }
 },
 "nbformat": 4,
 "nbformat_minor": 5
}
